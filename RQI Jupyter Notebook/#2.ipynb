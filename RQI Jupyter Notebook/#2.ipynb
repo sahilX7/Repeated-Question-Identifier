{
 "cells": [
  {
   "cell_type": "markdown",
   "id": "c7ec25de",
   "metadata": {},
   "source": [
    "# Improving Accuracy using Feature Engineering\n",
    "\n",
    "List of Features are:-\n",
    "1. length of q1 len\n",
    "2. length of q2 len\n",
    "3. number of words in q1 words\n",
    "4. number of words in q2 words\n",
    "5. common words between q1 and q2\n",
    "6. total words in q1 and q2\n",
    "7. fraction of shared words = common words/ total words"
   ]
  },
  {
   "cell_type": "code",
   "execution_count": 3,
   "id": "67172e5a",
   "metadata": {},
   "outputs": [],
   "source": [
    "import pandas as pd\n",
    "import numpy as np\n",
    "import matplotlib.pyplot as plt\n",
    "import seaborn as sns"
   ]
  },
  {
   "cell_type": "code",
   "execution_count": 4,
   "id": "a62ee09c",
   "metadata": {},
   "outputs": [
    {
     "data": {
      "text/html": [
       "<div>\n",
       "<style scoped>\n",
       "    .dataframe tbody tr th:only-of-type {\n",
       "        vertical-align: middle;\n",
       "    }\n",
       "\n",
       "    .dataframe tbody tr th {\n",
       "        vertical-align: top;\n",
       "    }\n",
       "\n",
       "    .dataframe thead th {\n",
       "        text-align: right;\n",
       "    }\n",
       "</style>\n",
       "<table border=\"1\" class=\"dataframe\">\n",
       "  <thead>\n",
       "    <tr style=\"text-align: right;\">\n",
       "      <th></th>\n",
       "      <th>id</th>\n",
       "      <th>qid1</th>\n",
       "      <th>qid2</th>\n",
       "      <th>question1</th>\n",
       "      <th>question2</th>\n",
       "      <th>is_duplicate</th>\n",
       "    </tr>\n",
       "  </thead>\n",
       "  <tbody>\n",
       "    <tr>\n",
       "      <th>0</th>\n",
       "      <td>0</td>\n",
       "      <td>1</td>\n",
       "      <td>2</td>\n",
       "      <td>What is the step by step guide to invest in sh...</td>\n",
       "      <td>What is the step by step guide to invest in sh...</td>\n",
       "      <td>0</td>\n",
       "    </tr>\n",
       "    <tr>\n",
       "      <th>1</th>\n",
       "      <td>1</td>\n",
       "      <td>3</td>\n",
       "      <td>4</td>\n",
       "      <td>What is the story of Kohinoor (Koh-i-Noor) Dia...</td>\n",
       "      <td>What would happen if the Indian government sto...</td>\n",
       "      <td>0</td>\n",
       "    </tr>\n",
       "    <tr>\n",
       "      <th>2</th>\n",
       "      <td>2</td>\n",
       "      <td>5</td>\n",
       "      <td>6</td>\n",
       "      <td>How can I increase the speed of my internet co...</td>\n",
       "      <td>How can Internet speed be increased by hacking...</td>\n",
       "      <td>0</td>\n",
       "    </tr>\n",
       "    <tr>\n",
       "      <th>3</th>\n",
       "      <td>3</td>\n",
       "      <td>7</td>\n",
       "      <td>8</td>\n",
       "      <td>Why am I mentally very lonely? How can I solve...</td>\n",
       "      <td>Find the remainder when [math]23^{24}[/math] i...</td>\n",
       "      <td>0</td>\n",
       "    </tr>\n",
       "    <tr>\n",
       "      <th>4</th>\n",
       "      <td>4</td>\n",
       "      <td>9</td>\n",
       "      <td>10</td>\n",
       "      <td>Which one dissolve in water quikly sugar, salt...</td>\n",
       "      <td>Which fish would survive in salt water?</td>\n",
       "      <td>0</td>\n",
       "    </tr>\n",
       "    <tr>\n",
       "      <th>...</th>\n",
       "      <td>...</td>\n",
       "      <td>...</td>\n",
       "      <td>...</td>\n",
       "      <td>...</td>\n",
       "      <td>...</td>\n",
       "      <td>...</td>\n",
       "    </tr>\n",
       "    <tr>\n",
       "      <th>404285</th>\n",
       "      <td>404285</td>\n",
       "      <td>433578</td>\n",
       "      <td>379845</td>\n",
       "      <td>How many keywords are there in the Racket prog...</td>\n",
       "      <td>How many keywords are there in PERL Programmin...</td>\n",
       "      <td>0</td>\n",
       "    </tr>\n",
       "    <tr>\n",
       "      <th>404286</th>\n",
       "      <td>404286</td>\n",
       "      <td>18840</td>\n",
       "      <td>155606</td>\n",
       "      <td>Do you believe there is life after death?</td>\n",
       "      <td>Is it true that there is life after death?</td>\n",
       "      <td>1</td>\n",
       "    </tr>\n",
       "    <tr>\n",
       "      <th>404287</th>\n",
       "      <td>404287</td>\n",
       "      <td>537928</td>\n",
       "      <td>537929</td>\n",
       "      <td>What is one coin?</td>\n",
       "      <td>What's this coin?</td>\n",
       "      <td>0</td>\n",
       "    </tr>\n",
       "    <tr>\n",
       "      <th>404288</th>\n",
       "      <td>404288</td>\n",
       "      <td>537930</td>\n",
       "      <td>537931</td>\n",
       "      <td>What is the approx annual cost of living while...</td>\n",
       "      <td>I am having little hairfall problem but I want...</td>\n",
       "      <td>0</td>\n",
       "    </tr>\n",
       "    <tr>\n",
       "      <th>404289</th>\n",
       "      <td>404289</td>\n",
       "      <td>537932</td>\n",
       "      <td>537933</td>\n",
       "      <td>What is like to have sex with cousin?</td>\n",
       "      <td>What is it like to have sex with your cousin?</td>\n",
       "      <td>0</td>\n",
       "    </tr>\n",
       "  </tbody>\n",
       "</table>\n",
       "<p>404290 rows × 6 columns</p>\n",
       "</div>"
      ],
      "text/plain": [
       "            id    qid1    qid2  \\\n",
       "0            0       1       2   \n",
       "1            1       3       4   \n",
       "2            2       5       6   \n",
       "3            3       7       8   \n",
       "4            4       9      10   \n",
       "...        ...     ...     ...   \n",
       "404285  404285  433578  379845   \n",
       "404286  404286   18840  155606   \n",
       "404287  404287  537928  537929   \n",
       "404288  404288  537930  537931   \n",
       "404289  404289  537932  537933   \n",
       "\n",
       "                                                question1  \\\n",
       "0       What is the step by step guide to invest in sh...   \n",
       "1       What is the story of Kohinoor (Koh-i-Noor) Dia...   \n",
       "2       How can I increase the speed of my internet co...   \n",
       "3       Why am I mentally very lonely? How can I solve...   \n",
       "4       Which one dissolve in water quikly sugar, salt...   \n",
       "...                                                   ...   \n",
       "404285  How many keywords are there in the Racket prog...   \n",
       "404286          Do you believe there is life after death?   \n",
       "404287                                  What is one coin?   \n",
       "404288  What is the approx annual cost of living while...   \n",
       "404289              What is like to have sex with cousin?   \n",
       "\n",
       "                                                question2  is_duplicate  \n",
       "0       What is the step by step guide to invest in sh...             0  \n",
       "1       What would happen if the Indian government sto...             0  \n",
       "2       How can Internet speed be increased by hacking...             0  \n",
       "3       Find the remainder when [math]23^{24}[/math] i...             0  \n",
       "4                 Which fish would survive in salt water?             0  \n",
       "...                                                   ...           ...  \n",
       "404285  How many keywords are there in PERL Programmin...             0  \n",
       "404286         Is it true that there is life after death?             1  \n",
       "404287                                  What's this coin?             0  \n",
       "404288  I am having little hairfall problem but I want...             0  \n",
       "404289      What is it like to have sex with your cousin?             0  \n",
       "\n",
       "[404290 rows x 6 columns]"
      ]
     },
     "execution_count": 4,
     "metadata": {},
     "output_type": "execute_result"
    }
   ],
   "source": [
    "df=pd.read_csv('train.csv')\n",
    "df"
   ]
  },
  {
   "cell_type": "code",
   "execution_count": 5,
   "id": "36e957ee",
   "metadata": {},
   "outputs": [
    {
     "data": {
      "text/html": [
       "<div>\n",
       "<style scoped>\n",
       "    .dataframe tbody tr th:only-of-type {\n",
       "        vertical-align: middle;\n",
       "    }\n",
       "\n",
       "    .dataframe tbody tr th {\n",
       "        vertical-align: top;\n",
       "    }\n",
       "\n",
       "    .dataframe thead th {\n",
       "        text-align: right;\n",
       "    }\n",
       "</style>\n",
       "<table border=\"1\" class=\"dataframe\">\n",
       "  <thead>\n",
       "    <tr style=\"text-align: right;\">\n",
       "      <th></th>\n",
       "      <th>id</th>\n",
       "      <th>qid1</th>\n",
       "      <th>qid2</th>\n",
       "      <th>question1</th>\n",
       "      <th>question2</th>\n",
       "      <th>is_duplicate</th>\n",
       "    </tr>\n",
       "  </thead>\n",
       "  <tbody>\n",
       "    <tr>\n",
       "      <th>213416</th>\n",
       "      <td>213416</td>\n",
       "      <td>318731</td>\n",
       "      <td>318732</td>\n",
       "      <td>How much is expected cut off for HRM programme...</td>\n",
       "      <td>What is the expected cut off for TISSNET 2017?</td>\n",
       "      <td>0</td>\n",
       "    </tr>\n",
       "    <tr>\n",
       "      <th>329054</th>\n",
       "      <td>329054</td>\n",
       "      <td>455670</td>\n",
       "      <td>455671</td>\n",
       "      <td>Do marks improve in CBSE improvement exam?</td>\n",
       "      <td>Can CBSE improvement exam be given in one subj...</td>\n",
       "      <td>0</td>\n",
       "    </tr>\n",
       "    <tr>\n",
       "      <th>97962</th>\n",
       "      <td>97962</td>\n",
       "      <td>162879</td>\n",
       "      <td>162880</td>\n",
       "      <td>How safe it is for a dog to be cleaned with hu...</td>\n",
       "      <td>Is human shampoo safe for dogs?</td>\n",
       "      <td>1</td>\n",
       "    </tr>\n",
       "    <tr>\n",
       "      <th>334963</th>\n",
       "      <td>334963</td>\n",
       "      <td>140110</td>\n",
       "      <td>27591</td>\n",
       "      <td>How do I concentrate more on studies?</td>\n",
       "      <td>How can I concentrate in my daily studies?</td>\n",
       "      <td>1</td>\n",
       "    </tr>\n",
       "    <tr>\n",
       "      <th>367105</th>\n",
       "      <td>367105</td>\n",
       "      <td>497363</td>\n",
       "      <td>343486</td>\n",
       "      <td>Why shouldn't pimples be popped?</td>\n",
       "      <td>How do you pop a pimple?</td>\n",
       "      <td>0</td>\n",
       "    </tr>\n",
       "    <tr>\n",
       "      <th>...</th>\n",
       "      <td>...</td>\n",
       "      <td>...</td>\n",
       "      <td>...</td>\n",
       "      <td>...</td>\n",
       "      <td>...</td>\n",
       "      <td>...</td>\n",
       "    </tr>\n",
       "    <tr>\n",
       "      <th>347773</th>\n",
       "      <td>347773</td>\n",
       "      <td>476266</td>\n",
       "      <td>476267</td>\n",
       "      <td>What kind of sunglasses does joe bonamassa wear?</td>\n",
       "      <td>Why do people wear sunglasses even when it is ...</td>\n",
       "      <td>0</td>\n",
       "    </tr>\n",
       "    <tr>\n",
       "      <th>128931</th>\n",
       "      <td>128931</td>\n",
       "      <td>49662</td>\n",
       "      <td>207237</td>\n",
       "      <td>How do I restore WhatsApp chats from Google Dr...</td>\n",
       "      <td>How do I restore a deleted iPhone calendar fro...</td>\n",
       "      <td>0</td>\n",
       "    </tr>\n",
       "    <tr>\n",
       "      <th>95243</th>\n",
       "      <td>95243</td>\n",
       "      <td>117473</td>\n",
       "      <td>51680</td>\n",
       "      <td>Will apple release a new MacBook Pro soon?</td>\n",
       "      <td>What upgrades are expected with the next MacBo...</td>\n",
       "      <td>1</td>\n",
       "    </tr>\n",
       "    <tr>\n",
       "      <th>37290</th>\n",
       "      <td>37290</td>\n",
       "      <td>67871</td>\n",
       "      <td>67872</td>\n",
       "      <td>Are there any chances for Delhi to have snowfa...</td>\n",
       "      <td>Why there is no snowfall in southern India?</td>\n",
       "      <td>0</td>\n",
       "    </tr>\n",
       "    <tr>\n",
       "      <th>298108</th>\n",
       "      <td>298108</td>\n",
       "      <td>93771</td>\n",
       "      <td>62526</td>\n",
       "      <td>What are the most common traffic convictions i...</td>\n",
       "      <td>What are the most common traffic convictions i...</td>\n",
       "      <td>0</td>\n",
       "    </tr>\n",
       "  </tbody>\n",
       "</table>\n",
       "<p>30000 rows × 6 columns</p>\n",
       "</div>"
      ],
      "text/plain": [
       "            id    qid1    qid2  \\\n",
       "213416  213416  318731  318732   \n",
       "329054  329054  455670  455671   \n",
       "97962    97962  162879  162880   \n",
       "334963  334963  140110   27591   \n",
       "367105  367105  497363  343486   \n",
       "...        ...     ...     ...   \n",
       "347773  347773  476266  476267   \n",
       "128931  128931   49662  207237   \n",
       "95243    95243  117473   51680   \n",
       "37290    37290   67871   67872   \n",
       "298108  298108   93771   62526   \n",
       "\n",
       "                                                question1  \\\n",
       "213416  How much is expected cut off for HRM programme...   \n",
       "329054         Do marks improve in CBSE improvement exam?   \n",
       "97962   How safe it is for a dog to be cleaned with hu...   \n",
       "334963              How do I concentrate more on studies?   \n",
       "367105                   Why shouldn't pimples be popped?   \n",
       "...                                                   ...   \n",
       "347773   What kind of sunglasses does joe bonamassa wear?   \n",
       "128931  How do I restore WhatsApp chats from Google Dr...   \n",
       "95243          Will apple release a new MacBook Pro soon?   \n",
       "37290   Are there any chances for Delhi to have snowfa...   \n",
       "298108  What are the most common traffic convictions i...   \n",
       "\n",
       "                                                question2  is_duplicate  \n",
       "213416     What is the expected cut off for TISSNET 2017?             0  \n",
       "329054  Can CBSE improvement exam be given in one subj...             0  \n",
       "97962                     Is human shampoo safe for dogs?             1  \n",
       "334963         How can I concentrate in my daily studies?             1  \n",
       "367105                           How do you pop a pimple?             0  \n",
       "...                                                   ...           ...  \n",
       "347773  Why do people wear sunglasses even when it is ...             0  \n",
       "128931  How do I restore a deleted iPhone calendar fro...             0  \n",
       "95243   What upgrades are expected with the next MacBo...             1  \n",
       "37290         Why there is no snowfall in southern India?             0  \n",
       "298108  What are the most common traffic convictions i...             0  \n",
       "\n",
       "[30000 rows x 6 columns]"
      ]
     },
     "execution_count": 5,
     "metadata": {},
     "output_type": "execute_result"
    }
   ],
   "source": [
    "new_df=df.sample(30000)\n",
    "new_df"
   ]
  },
  {
   "cell_type": "code",
   "execution_count": 6,
   "id": "ef7fca05",
   "metadata": {},
   "outputs": [
    {
     "data": {
      "text/plain": [
       "id              0\n",
       "qid1            0\n",
       "qid2            0\n",
       "question1       0\n",
       "question2       0\n",
       "is_duplicate    0\n",
       "dtype: int64"
      ]
     },
     "execution_count": 6,
     "metadata": {},
     "output_type": "execute_result"
    }
   ],
   "source": [
    "new_df.isnull().sum()"
   ]
  },
  {
   "cell_type": "code",
   "execution_count": 7,
   "id": "f240ca55",
   "metadata": {},
   "outputs": [
    {
     "name": "stdout",
     "output_type": "stream",
     "text": [
      "0    63.073333\n",
      "1    36.926667\n",
      "Name: is_duplicate, dtype: float64\n"
     ]
    },
    {
     "data": {
      "text/plain": [
       "<AxesSubplot: >"
      ]
     },
     "execution_count": 7,
     "metadata": {},
     "output_type": "execute_result"
    },
    {
     "data": {
      "image/png": "[encoded data removed]",
      "text/plain": [
       "<Figure size 640x480 with 1 Axes>"
      ]
     },
     "metadata": {},
     "output_type": "display_data"
    }
   ],
   "source": [
    "#Distribution of Duplicate and Non-Duplicate questions\n",
    "\n",
    "print(new_df['is_duplicate'].value_counts()/new_df['is_duplicate'].count()*100)\n",
    "new_df['is_duplicate'].value_counts().plot(kind=\"bar\")"
   ]
  },
  {
   "cell_type": "code",
   "execution_count": 8,
   "id": "4d6b2aa9",
   "metadata": {},
   "outputs": [
    {
     "name": "stdout",
     "output_type": "stream",
     "text": [
      "Number of Unique Questions 55415\n",
      "Number of Repeated Questions 3400\n"
     ]
    }
   ],
   "source": [
    "#Repeated Questions\n",
    "\n",
    "qid=pd.Series(new_df['qid1'].tolist() + new_df['qid2'].tolist())\n",
    "print('Number of Unique Questions',np.unique(qid).shape[0])\n",
    "x=qid.value_counts()>1\n",
    "print('Number of Repeated Questions',x[x].shape[0])"
   ]
  },
  {
   "cell_type": "code",
   "execution_count": 9,
   "id": "9767865e",
   "metadata": {},
   "outputs": [
    {
     "data": {
      "image/png": "[encoded data removed]",
      "text/plain": [
       "<Figure size 640x480 with 1 Axes>"
      ]
     },
     "metadata": {},
     "output_type": "display_data"
    }
   ],
   "source": [
    "plt.hist(qid.value_counts().values,bins=160)\n",
    "plt.yscale('log')\n",
    "plt.show()"
   ]
  },
  {
   "cell_type": "markdown",
   "id": "2989a1da",
   "metadata": {},
   "source": [
    "# Feature Engineering"
   ]
  },
  {
   "cell_type": "code",
   "execution_count": 10,
   "id": "e270b629",
   "metadata": {},
   "outputs": [],
   "source": [
    "#Feature 1 (q1_len)\n",
    "new_df['q1_len']=new_df['question1'].str.len()"
   ]
  },
  {
   "cell_type": "code",
   "execution_count": 11,
   "id": "85fa4c9c",
   "metadata": {},
   "outputs": [],
   "source": [
    "#Feature 2 (q2_len)\n",
    "new_df['q2_len']=new_df['question2'].str.len()"
   ]
  },
  {
   "cell_type": "code",
   "execution_count": 13,
   "id": "d67ac37a",
   "metadata": {},
   "outputs": [],
   "source": [
    "#Feature 3 (q1_num_words)\n",
    "new_df['q1_num_words']=new_df['question1'].apply(lambda row:len(row.split(\" \")))"
   ]
  },
  {
   "cell_type": "code",
   "execution_count": 14,
   "id": "f0e83d09",
   "metadata": {},
   "outputs": [],
   "source": [
    "#Feature 4 (q2_num_words)\n",
    "new_df['q2_num_words']=new_df['question2'].apply(lambda row:len(row.split(\" \")))"
   ]
  },
  {
   "cell_type": "code",
   "execution_count": 17,
   "id": "05b1ae3f",
   "metadata": {},
   "outputs": [],
   "source": [
    "#Feature 5 (common_words)\n",
    "def common_words(row):\n",
    "    w1=set(map(lambda word:word.lower().strip(),row['question1'].split(\" \")))\n",
    "    w2=set(map(lambda word:word.lower().strip(),row['question2'].split(\" \")))\n",
    "    return len(w1 & w2)\n",
    "\n",
    "new_df['common_words']=new_df.apply(common_words,axis=1)"
   ]
  },
  {
   "cell_type": "code",
   "execution_count": 19,
   "id": "6c61fcf3",
   "metadata": {},
   "outputs": [],
   "source": [
    "#Feature 6 (total_words)\n",
    "def total_words(row):\n",
    "    w1=set(map(lambda word:word.lower().strip(),row['question1'].split(\" \")))\n",
    "    w2=set(map(lambda word:word.lower().strip(),row['question2'].split(\" \")))\n",
    "    return len(w1) + len(w2)\n",
    "\n",
    "new_df['total_words']=new_df.apply(total_words,axis=1)"
   ]
  },
  {
   "cell_type": "code",
   "execution_count": 20,
   "id": "81f6c5a8",
   "metadata": {},
   "outputs": [],
   "source": [
    "#Feature 7 (shared_words)\n",
    "new_df['shared_words']=round(new_df['common_words'] / new_df['total_words'],2)"
   ]
  },
  {
   "cell_type": "code",
   "execution_count": 21,
   "id": "61ecd4ae",
   "metadata": {},
   "outputs": [
    {
     "data": {
      "text/html": [
       "<div>\n",
       "<style scoped>\n",
       "    .dataframe tbody tr th:only-of-type {\n",
       "        vertical-align: middle;\n",
       "    }\n",
       "\n",
       "    .dataframe tbody tr th {\n",
       "        vertical-align: top;\n",
       "    }\n",
       "\n",
       "    .dataframe thead th {\n",
       "        text-align: right;\n",
       "    }\n",
       "</style>\n",
       "<table border=\"1\" class=\"dataframe\">\n",
       "  <thead>\n",
       "    <tr style=\"text-align: right;\">\n",
       "      <th></th>\n",
       "      <th>id</th>\n",
       "      <th>qid1</th>\n",
       "      <th>qid2</th>\n",
       "      <th>question1</th>\n",
       "      <th>question2</th>\n",
       "      <th>is_duplicate</th>\n",
       "      <th>q1_len</th>\n",
       "      <th>q2_len</th>\n",
       "      <th>q1_num_words</th>\n",
       "      <th>q2_num_words</th>\n",
       "      <th>common_words</th>\n",
       "      <th>total_words</th>\n",
       "      <th>shared_words</th>\n",
       "    </tr>\n",
       "  </thead>\n",
       "  <tbody>\n",
       "    <tr>\n",
       "      <th>213416</th>\n",
       "      <td>213416</td>\n",
       "      <td>318731</td>\n",
       "      <td>318732</td>\n",
       "      <td>How much is expected cut off for HRM programme...</td>\n",
       "      <td>What is the expected cut off for TISSNET 2017?</td>\n",
       "      <td>0</td>\n",
       "      <td>64</td>\n",
       "      <td>46</td>\n",
       "      <td>12</td>\n",
       "      <td>9</td>\n",
       "      <td>7</td>\n",
       "      <td>20</td>\n",
       "      <td>0.35</td>\n",
       "    </tr>\n",
       "    <tr>\n",
       "      <th>329054</th>\n",
       "      <td>329054</td>\n",
       "      <td>455670</td>\n",
       "      <td>455671</td>\n",
       "      <td>Do marks improve in CBSE improvement exam?</td>\n",
       "      <td>Can CBSE improvement exam be given in one subj...</td>\n",
       "      <td>0</td>\n",
       "      <td>42</td>\n",
       "      <td>50</td>\n",
       "      <td>7</td>\n",
       "      <td>9</td>\n",
       "      <td>3</td>\n",
       "      <td>16</td>\n",
       "      <td>0.19</td>\n",
       "    </tr>\n",
       "    <tr>\n",
       "      <th>97962</th>\n",
       "      <td>97962</td>\n",
       "      <td>162879</td>\n",
       "      <td>162880</td>\n",
       "      <td>How safe it is for a dog to be cleaned with hu...</td>\n",
       "      <td>Is human shampoo safe for dogs?</td>\n",
       "      <td>1</td>\n",
       "      <td>58</td>\n",
       "      <td>31</td>\n",
       "      <td>13</td>\n",
       "      <td>6</td>\n",
       "      <td>4</td>\n",
       "      <td>19</td>\n",
       "      <td>0.21</td>\n",
       "    </tr>\n",
       "    <tr>\n",
       "      <th>334963</th>\n",
       "      <td>334963</td>\n",
       "      <td>140110</td>\n",
       "      <td>27591</td>\n",
       "      <td>How do I concentrate more on studies?</td>\n",
       "      <td>How can I concentrate in my daily studies?</td>\n",
       "      <td>1</td>\n",
       "      <td>37</td>\n",
       "      <td>42</td>\n",
       "      <td>7</td>\n",
       "      <td>8</td>\n",
       "      <td>4</td>\n",
       "      <td>15</td>\n",
       "      <td>0.27</td>\n",
       "    </tr>\n",
       "    <tr>\n",
       "      <th>367105</th>\n",
       "      <td>367105</td>\n",
       "      <td>497363</td>\n",
       "      <td>343486</td>\n",
       "      <td>Why shouldn't pimples be popped?</td>\n",
       "      <td>How do you pop a pimple?</td>\n",
       "      <td>0</td>\n",
       "      <td>32</td>\n",
       "      <td>24</td>\n",
       "      <td>5</td>\n",
       "      <td>6</td>\n",
       "      <td>0</td>\n",
       "      <td>11</td>\n",
       "      <td>0.00</td>\n",
       "    </tr>\n",
       "    <tr>\n",
       "      <th>...</th>\n",
       "      <td>...</td>\n",
       "      <td>...</td>\n",
       "      <td>...</td>\n",
       "      <td>...</td>\n",
       "      <td>...</td>\n",
       "      <td>...</td>\n",
       "      <td>...</td>\n",
       "      <td>...</td>\n",
       "      <td>...</td>\n",
       "      <td>...</td>\n",
       "      <td>...</td>\n",
       "      <td>...</td>\n",
       "      <td>...</td>\n",
       "    </tr>\n",
       "    <tr>\n",
       "      <th>347773</th>\n",
       "      <td>347773</td>\n",
       "      <td>476266</td>\n",
       "      <td>476267</td>\n",
       "      <td>What kind of sunglasses does joe bonamassa wear?</td>\n",
       "      <td>Why do people wear sunglasses even when it is ...</td>\n",
       "      <td>0</td>\n",
       "      <td>48</td>\n",
       "      <td>64</td>\n",
       "      <td>8</td>\n",
       "      <td>12</td>\n",
       "      <td>1</td>\n",
       "      <td>20</td>\n",
       "      <td>0.05</td>\n",
       "    </tr>\n",
       "    <tr>\n",
       "      <th>128931</th>\n",
       "      <td>128931</td>\n",
       "      <td>49662</td>\n",
       "      <td>207237</td>\n",
       "      <td>How do I restore WhatsApp chats from Google Dr...</td>\n",
       "      <td>How do I restore a deleted iPhone calendar fro...</td>\n",
       "      <td>0</td>\n",
       "      <td>70</td>\n",
       "      <td>65</td>\n",
       "      <td>13</td>\n",
       "      <td>12</td>\n",
       "      <td>6</td>\n",
       "      <td>25</td>\n",
       "      <td>0.24</td>\n",
       "    </tr>\n",
       "    <tr>\n",
       "      <th>95243</th>\n",
       "      <td>95243</td>\n",
       "      <td>117473</td>\n",
       "      <td>51680</td>\n",
       "      <td>Will apple release a new MacBook Pro soon?</td>\n",
       "      <td>What upgrades are expected with the next MacBo...</td>\n",
       "      <td>1</td>\n",
       "      <td>42</td>\n",
       "      <td>106</td>\n",
       "      <td>8</td>\n",
       "      <td>19</td>\n",
       "      <td>4</td>\n",
       "      <td>26</td>\n",
       "      <td>0.15</td>\n",
       "    </tr>\n",
       "    <tr>\n",
       "      <th>37290</th>\n",
       "      <td>37290</td>\n",
       "      <td>67871</td>\n",
       "      <td>67872</td>\n",
       "      <td>Are there any chances for Delhi to have snowfa...</td>\n",
       "      <td>Why there is no snowfall in southern India?</td>\n",
       "      <td>0</td>\n",
       "      <td>63</td>\n",
       "      <td>43</td>\n",
       "      <td>12</td>\n",
       "      <td>8</td>\n",
       "      <td>3</td>\n",
       "      <td>20</td>\n",
       "      <td>0.15</td>\n",
       "    </tr>\n",
       "    <tr>\n",
       "      <th>298108</th>\n",
       "      <td>298108</td>\n",
       "      <td>93771</td>\n",
       "      <td>62526</td>\n",
       "      <td>What are the most common traffic convictions i...</td>\n",
       "      <td>What are the most common traffic convictions i...</td>\n",
       "      <td>0</td>\n",
       "      <td>124</td>\n",
       "      <td>126</td>\n",
       "      <td>20</td>\n",
       "      <td>20</td>\n",
       "      <td>15</td>\n",
       "      <td>32</td>\n",
       "      <td>0.47</td>\n",
       "    </tr>\n",
       "  </tbody>\n",
       "</table>\n",
       "<p>30000 rows × 13 columns</p>\n",
       "</div>"
      ],
      "text/plain": [
       "            id    qid1    qid2  \\\n",
       "213416  213416  318731  318732   \n",
       "329054  329054  455670  455671   \n",
       "97962    97962  162879  162880   \n",
       "334963  334963  140110   27591   \n",
       "367105  367105  497363  343486   \n",
       "...        ...     ...     ...   \n",
       "347773  347773  476266  476267   \n",
       "128931  128931   49662  207237   \n",
       "95243    95243  117473   51680   \n",
       "37290    37290   67871   67872   \n",
       "298108  298108   93771   62526   \n",
       "\n",
       "                                                question1  \\\n",
       "213416  How much is expected cut off for HRM programme...   \n",
       "329054         Do marks improve in CBSE improvement exam?   \n",
       "97962   How safe it is for a dog to be cleaned with hu...   \n",
       "334963              How do I concentrate more on studies?   \n",
       "367105                   Why shouldn't pimples be popped?   \n",
       "...                                                   ...   \n",
       "347773   What kind of sunglasses does joe bonamassa wear?   \n",
       "128931  How do I restore WhatsApp chats from Google Dr...   \n",
       "95243          Will apple release a new MacBook Pro soon?   \n",
       "37290   Are there any chances for Delhi to have snowfa...   \n",
       "298108  What are the most common traffic convictions i...   \n",
       "\n",
       "                                                question2  is_duplicate  \\\n",
       "213416     What is the expected cut off for TISSNET 2017?             0   \n",
       "329054  Can CBSE improvement exam be given in one subj...             0   \n",
       "97962                     Is human shampoo safe for dogs?             1   \n",
       "334963         How can I concentrate in my daily studies?             1   \n",
       "367105                           How do you pop a pimple?             0   \n",
       "...                                                   ...           ...   \n",
       "347773  Why do people wear sunglasses even when it is ...             0   \n",
       "128931  How do I restore a deleted iPhone calendar fro...             0   \n",
       "95243   What upgrades are expected with the next MacBo...             1   \n",
       "37290         Why there is no snowfall in southern India?             0   \n",
       "298108  What are the most common traffic convictions i...             0   \n",
       "\n",
       "        q1_len  q2_len  q1_num_words  q2_num_words  common_words  total_words  \\\n",
       "213416      64      46            12             9             7           20   \n",
       "329054      42      50             7             9             3           16   \n",
       "97962       58      31            13             6             4           19   \n",
       "334963      37      42             7             8             4           15   \n",
       "367105      32      24             5             6             0           11   \n",
       "...        ...     ...           ...           ...           ...          ...   \n",
       "347773      48      64             8            12             1           20   \n",
       "128931      70      65            13            12             6           25   \n",
       "95243       42     106             8            19             4           26   \n",
       "37290       63      43            12             8             3           20   \n",
       "298108     124     126            20            20            15           32   \n",
       "\n",
       "        shared_words  \n",
       "213416          0.35  \n",
       "329054          0.19  \n",
       "97962           0.21  \n",
       "334963          0.27  \n",
       "367105          0.00  \n",
       "...              ...  \n",
       "347773          0.05  \n",
       "128931          0.24  \n",
       "95243           0.15  \n",
       "37290           0.15  \n",
       "298108          0.47  \n",
       "\n",
       "[30000 rows x 13 columns]"
      ]
     },
     "execution_count": 21,
     "metadata": {},
     "output_type": "execute_result"
    }
   ],
   "source": [
    "new_df"
   ]
  },
  {
   "cell_type": "markdown",
   "id": "049a12b2",
   "metadata": {},
   "source": [
    "# Analysing Features"
   ]
  },
  {
   "cell_type": "code",
   "execution_count": 23,
   "id": "a64f8801",
   "metadata": {},
   "outputs": [
    {
     "name": "stdout",
     "output_type": "stream",
     "text": [
      "Minimum characters 1\n",
      "Maximum characters 391\n",
      "Average number of characters 59\n"
     ]
    },
    {
     "data": {
      "image/png": "[encoded data removed]",
      "text/plain": [
       "<Figure size 500x500 with 1 Axes>"
      ]
     },
     "metadata": {},
     "output_type": "display_data"
    }
   ],
   "source": [
    "sns.displot(new_df['q1_len'])\n",
    "\n",
    "print('Minimum characters',new_df['q1_len'].min())\n",
    "print('Maximum characters',new_df['q1_len'].max())\n",
    "print('Average number of characters',int(new_df['q1_len'].mean()))"
   ]
  },
  {
   "cell_type": "code",
   "execution_count": 24,
   "id": "9008b7c9",
   "metadata": {},
   "outputs": [
    {
     "name": "stdout",
     "output_type": "stream",
     "text": [
      "Minimum characters 10\n",
      "Maximum characters 1169\n",
      "Average number of characters 60\n"
     ]
    },
    {
     "data": {
      "image/png": "[encoded data removed]",
      "text/plain": [
       "<Figure size 500x500 with 1 Axes>"
      ]
     },
     "metadata": {},
     "output_type": "display_data"
    }
   ],
   "source": [
    "sns.displot(new_df['q2_len'])\n",
    "\n",
    "print('Minimum characters',new_df['q2_len'].min())\n",
    "print('Maximum characters',new_df['q2_len'].max())\n",
    "print('Average number of characters',int(new_df['q2_len'].mean()))"
   ]
  },
  {
   "cell_type": "code",
   "execution_count": 25,
   "id": "51ef3647",
   "metadata": {},
   "outputs": [
    {
     "name": "stdout",
     "output_type": "stream",
     "text": [
      "Minimum words 1\n",
      "Maximum words 73\n",
      "Average number of words 10\n"
     ]
    },
    {
     "data": {
      "image/png": "[encoded data removed]",
      "text/plain": [
       "<Figure size 500x500 with 1 Axes>"
      ]
     },
     "metadata": {},
     "output_type": "display_data"
    }
   ],
   "source": [
    "sns.displot(new_df['q1_num_words'])\n",
    "\n",
    "print('Minimum words',new_df['q1_num_words'].min())\n",
    "print('Maximum words',new_df['q1_num_words'].max())\n",
    "print('Average number of words',int(new_df['q1_num_words'].mean()))"
   ]
  },
  {
   "cell_type": "code",
   "execution_count": 26,
   "id": "c5ac01de",
   "metadata": {},
   "outputs": [
    {
     "name": "stdout",
     "output_type": "stream",
     "text": [
      "Minimum words 2\n",
      "Maximum words 228\n",
      "Average number of words 11\n"
     ]
    },
    {
     "data": {
      "image/png": "[encoded data removed]",
      "text/plain": [
       "<Figure size 500x500 with 1 Axes>"
      ]
     },
     "metadata": {},
     "output_type": "display_data"
    }
   ],
   "source": [
    "sns.displot(new_df['q2_num_words'])\n",
    "\n",
    "print('Minimum words',new_df['q2_num_words'].min())\n",
    "print('Maximum words',new_df['q2_num_words'].max())\n",
    "print('Average number of words',int(new_df['q2_num_words'].mean()))"
   ]
  },
  {
   "cell_type": "code",
   "execution_count": 45,
   "id": "a4613be9",
   "metadata": {},
   "outputs": [
    {
     "name": "stderr",
     "output_type": "stream",
     "text": [
      "C:\\Users\\Sahil Gupta\\AppData\\Local\\Temp\\ipykernel_5616\\2764023894.py:1: UserWarning: \n",
      "\n",
      "`distplot` is a deprecated function and will be removed in seaborn v0.14.0.\n",
      "\n",
      "Please adapt your code to use either `displot` (a figure-level function with\n",
      "similar flexibility) or `kdeplot` (an axes-level function for kernel density plots).\n",
      "\n",
      "For a guide to updating your code to use the new functions, please see\n",
      "https://gist.github.com/mwaskom/de44147ed2974457ad6372750bbe5751\n",
      "\n",
      "  sns.distplot(new_df[new_df['is_duplicate']==0]['common_words'],label='non duplicate',color='red',hist=False,rug=True)\n",
      "C:\\Users\\Sahil Gupta\\AppData\\Local\\Temp\\ipykernel_5616\\2764023894.py:2: UserWarning: \n",
      "\n",
      "`distplot` is a deprecated function and will be removed in seaborn v0.14.0.\n",
      "\n",
      "Please adapt your code to use either `displot` (a figure-level function with\n",
      "similar flexibility) or `kdeplot` (an axes-level function for kernel density plots).\n",
      "\n",
      "For a guide to updating your code to use the new functions, please see\n",
      "https://gist.github.com/mwaskom/de44147ed2974457ad6372750bbe5751\n",
      "\n",
      "  sns.distplot(new_df[new_df['is_duplicate']==1]['common_words'],label='duplicate',color='green',hist=False,rug=True)\n"
     ]
    },
    {
     "data": {
      "image/png": "[encoded data removed]",
      "text/plain": [
       "<Figure size 640x480 with 1 Axes>"
      ]
     },
     "metadata": {},
     "output_type": "display_data"
    }
   ],
   "source": [
    "sns.distplot(new_df[new_df['is_duplicate']==0]['common_words'],label='non duplicate',color='red',hist=False,rug=True)\n",
    "sns.distplot(new_df[new_df['is_duplicate']==1]['common_words'],label='duplicate',color='green',hist=False,rug=True)\n",
    "plt.legend()\n",
    "plt.show()"
   ]
  },
  {
   "cell_type": "code",
   "execution_count": 46,
   "id": "736e8b7c",
   "metadata": {},
   "outputs": [
    {
     "name": "stderr",
     "output_type": "stream",
     "text": [
      "C:\\Users\\Sahil Gupta\\AppData\\Local\\Temp\\ipykernel_5616\\3230251266.py:1: UserWarning: \n",
      "\n",
      "`distplot` is a deprecated function and will be removed in seaborn v0.14.0.\n",
      "\n",
      "Please adapt your code to use either `displot` (a figure-level function with\n",
      "similar flexibility) or `kdeplot` (an axes-level function for kernel density plots).\n",
      "\n",
      "For a guide to updating your code to use the new functions, please see\n",
      "https://gist.github.com/mwaskom/de44147ed2974457ad6372750bbe5751\n",
      "\n",
      "  sns.distplot(new_df[new_df['is_duplicate']==0]['total_words'],label='non duplicate',color='red',hist=False,rug=True)\n",
      "C:\\Users\\Sahil Gupta\\AppData\\Local\\Temp\\ipykernel_5616\\3230251266.py:2: UserWarning: \n",
      "\n",
      "`distplot` is a deprecated function and will be removed in seaborn v0.14.0.\n",
      "\n",
      "Please adapt your code to use either `displot` (a figure-level function with\n",
      "similar flexibility) or `kdeplot` (an axes-level function for kernel density plots).\n",
      "\n",
      "For a guide to updating your code to use the new functions, please see\n",
      "https://gist.github.com/mwaskom/de44147ed2974457ad6372750bbe5751\n",
      "\n",
      "  sns.distplot(new_df[new_df['is_duplicate']==1]['total_words'],label='duplicate',color='green',hist=False,rug=True)\n"
     ]
    },
    {
     "data": {
      "image/png": "[encoded data removed]",
      "text/plain": [
       "<Figure size 640x480 with 1 Axes>"
      ]
     },
     "metadata": {},
     "output_type": "display_data"
    }
   ],
   "source": [
    "sns.distplot(new_df[new_df['is_duplicate']==0]['total_words'],label='non duplicate',color='red',hist=False,rug=True)\n",
    "sns.distplot(new_df[new_df['is_duplicate']==1]['total_words'],label='duplicate',color='green',hist=False,rug=True)\n",
    "plt.legend()\n",
    "plt.show() "
   ]
  },
  {
   "cell_type": "code",
   "execution_count": 47,
   "id": "4a607f22",
   "metadata": {},
   "outputs": [
    {
     "name": "stderr",
     "output_type": "stream",
     "text": [
      "C:\\Users\\Sahil Gupta\\AppData\\Local\\Temp\\ipykernel_5616\\1421757019.py:1: UserWarning: \n",
      "\n",
      "`distplot` is a deprecated function and will be removed in seaborn v0.14.0.\n",
      "\n",
      "Please adapt your code to use either `displot` (a figure-level function with\n",
      "similar flexibility) or `kdeplot` (an axes-level function for kernel density plots).\n",
      "\n",
      "For a guide to updating your code to use the new functions, please see\n",
      "https://gist.github.com/mwaskom/de44147ed2974457ad6372750bbe5751\n",
      "\n",
      "  sns.distplot(new_df[new_df['is_duplicate']==0]['shared_words'],label='non duplicate',color='red',hist=False,rug=True)\n",
      "C:\\Users\\Sahil Gupta\\AppData\\Local\\Temp\\ipykernel_5616\\1421757019.py:2: UserWarning: \n",
      "\n",
      "`distplot` is a deprecated function and will be removed in seaborn v0.14.0.\n",
      "\n",
      "Please adapt your code to use either `displot` (a figure-level function with\n",
      "similar flexibility) or `kdeplot` (an axes-level function for kernel density plots).\n",
      "\n",
      "For a guide to updating your code to use the new functions, please see\n",
      "https://gist.github.com/mwaskom/de44147ed2974457ad6372750bbe5751\n",
      "\n",
      "  sns.distplot(new_df[new_df['is_duplicate']==1]['shared_words'],label='duplicate',color='green',hist=False,rug=True)\n"
     ]
    },
    {
     "data": {
      "image/png": "[encoded data removed]",
      "text/plain": [
       "<Figure size 640x480 with 1 Axes>"
      ]
     },
     "metadata": {},
     "output_type": "display_data"
    }
   ],
   "source": [
    "sns.distplot(new_df[new_df['is_duplicate']==0]['shared_words'],label='non duplicate',color='red',hist=False,rug=True)\n",
    "sns.distplot(new_df[new_df['is_duplicate']==1]['shared_words'],label='duplicate',color='green',hist=False,rug=True)\n",
    "plt.legend()\n",
    "plt.show()   "
   ]
  },
  {
   "cell_type": "code",
   "execution_count": 48,
   "id": "922e23b0",
   "metadata": {},
   "outputs": [],
   "source": [
    "ques_df=new_df[['question1','question2']]"
   ]
  },
  {
   "cell_type": "code",
   "execution_count": 49,
   "id": "42d6a2a2",
   "metadata": {},
   "outputs": [],
   "source": [
    "from sklearn.feature_extraction.text import CountVectorizer\n",
    "\n",
    "questions=list(ques_df['question1']) + list(ques_df['question2'])\n",
    "cv=CountVectorizer(max_features=3000)\n",
    "q1_arr,q2_arr=np.vsplit(cv.fit_transform(questions).toarray(),2)"
   ]
  },
  {
   "cell_type": "code",
   "execution_count": 50,
   "id": "292ddccb",
   "metadata": {},
   "outputs": [
    {
     "data": {
      "text/plain": [
       "(30000, 6000)"
      ]
     },
     "execution_count": 50,
     "metadata": {},
     "output_type": "execute_result"
    }
   ],
   "source": [
    "temp_df1=pd.DataFrame(q1_arr,index=ques_df.index)\n",
    "temp_df2=pd.DataFrame(q2_arr,index=ques_df.index)\n",
    "temp_df=pd.concat([temp_df1,temp_df2],axis=1)\n",
    "temp_df.shape"
   ]
  },
  {
   "cell_type": "code",
   "execution_count": 52,
   "id": "7dbdd562",
   "metadata": {},
   "outputs": [
    {
     "name": "stdout",
     "output_type": "stream",
     "text": [
      "(30000, 6008)\n"
     ]
    },
    {
     "data": {
      "text/html": [
       "<div>\n",
       "<style scoped>\n",
       "    .dataframe tbody tr th:only-of-type {\n",
       "        vertical-align: middle;\n",
       "    }\n",
       "\n",
       "    .dataframe tbody tr th {\n",
       "        vertical-align: top;\n",
       "    }\n",
       "\n",
       "    .dataframe thead th {\n",
       "        text-align: right;\n",
       "    }\n",
       "</style>\n",
       "<table border=\"1\" class=\"dataframe\">\n",
       "  <thead>\n",
       "    <tr style=\"text-align: right;\">\n",
       "      <th></th>\n",
       "      <th>is_duplicate</th>\n",
       "      <th>q1_len</th>\n",
       "      <th>q2_len</th>\n",
       "      <th>q1_num_words</th>\n",
       "      <th>q2_num_words</th>\n",
       "      <th>common_words</th>\n",
       "      <th>total_words</th>\n",
       "      <th>shared_words</th>\n",
       "      <th>0</th>\n",
       "      <th>1</th>\n",
       "      <th>...</th>\n",
       "      <th>2990</th>\n",
       "      <th>2991</th>\n",
       "      <th>2992</th>\n",
       "      <th>2993</th>\n",
       "      <th>2994</th>\n",
       "      <th>2995</th>\n",
       "      <th>2996</th>\n",
       "      <th>2997</th>\n",
       "      <th>2998</th>\n",
       "      <th>2999</th>\n",
       "    </tr>\n",
       "  </thead>\n",
       "  <tbody>\n",
       "    <tr>\n",
       "      <th>213416</th>\n",
       "      <td>0</td>\n",
       "      <td>64</td>\n",
       "      <td>46</td>\n",
       "      <td>12</td>\n",
       "      <td>9</td>\n",
       "      <td>7</td>\n",
       "      <td>20</td>\n",
       "      <td>0.35</td>\n",
       "      <td>0</td>\n",
       "      <td>0</td>\n",
       "      <td>...</td>\n",
       "      <td>0</td>\n",
       "      <td>0</td>\n",
       "      <td>0</td>\n",
       "      <td>0</td>\n",
       "      <td>0</td>\n",
       "      <td>0</td>\n",
       "      <td>0</td>\n",
       "      <td>0</td>\n",
       "      <td>0</td>\n",
       "      <td>0</td>\n",
       "    </tr>\n",
       "    <tr>\n",
       "      <th>329054</th>\n",
       "      <td>0</td>\n",
       "      <td>42</td>\n",
       "      <td>50</td>\n",
       "      <td>7</td>\n",
       "      <td>9</td>\n",
       "      <td>3</td>\n",
       "      <td>16</td>\n",
       "      <td>0.19</td>\n",
       "      <td>0</td>\n",
       "      <td>0</td>\n",
       "      <td>...</td>\n",
       "      <td>0</td>\n",
       "      <td>0</td>\n",
       "      <td>0</td>\n",
       "      <td>0</td>\n",
       "      <td>0</td>\n",
       "      <td>0</td>\n",
       "      <td>0</td>\n",
       "      <td>0</td>\n",
       "      <td>0</td>\n",
       "      <td>0</td>\n",
       "    </tr>\n",
       "    <tr>\n",
       "      <th>97962</th>\n",
       "      <td>1</td>\n",
       "      <td>58</td>\n",
       "      <td>31</td>\n",
       "      <td>13</td>\n",
       "      <td>6</td>\n",
       "      <td>4</td>\n",
       "      <td>19</td>\n",
       "      <td>0.21</td>\n",
       "      <td>0</td>\n",
       "      <td>0</td>\n",
       "      <td>...</td>\n",
       "      <td>0</td>\n",
       "      <td>0</td>\n",
       "      <td>0</td>\n",
       "      <td>0</td>\n",
       "      <td>0</td>\n",
       "      <td>0</td>\n",
       "      <td>0</td>\n",
       "      <td>0</td>\n",
       "      <td>0</td>\n",
       "      <td>0</td>\n",
       "    </tr>\n",
       "    <tr>\n",
       "      <th>334963</th>\n",
       "      <td>1</td>\n",
       "      <td>37</td>\n",
       "      <td>42</td>\n",
       "      <td>7</td>\n",
       "      <td>8</td>\n",
       "      <td>4</td>\n",
       "      <td>15</td>\n",
       "      <td>0.27</td>\n",
       "      <td>0</td>\n",
       "      <td>0</td>\n",
       "      <td>...</td>\n",
       "      <td>0</td>\n",
       "      <td>0</td>\n",
       "      <td>0</td>\n",
       "      <td>0</td>\n",
       "      <td>0</td>\n",
       "      <td>0</td>\n",
       "      <td>0</td>\n",
       "      <td>0</td>\n",
       "      <td>0</td>\n",
       "      <td>0</td>\n",
       "    </tr>\n",
       "    <tr>\n",
       "      <th>367105</th>\n",
       "      <td>0</td>\n",
       "      <td>32</td>\n",
       "      <td>24</td>\n",
       "      <td>5</td>\n",
       "      <td>6</td>\n",
       "      <td>0</td>\n",
       "      <td>11</td>\n",
       "      <td>0.00</td>\n",
       "      <td>0</td>\n",
       "      <td>0</td>\n",
       "      <td>...</td>\n",
       "      <td>0</td>\n",
       "      <td>0</td>\n",
       "      <td>1</td>\n",
       "      <td>0</td>\n",
       "      <td>0</td>\n",
       "      <td>0</td>\n",
       "      <td>0</td>\n",
       "      <td>0</td>\n",
       "      <td>0</td>\n",
       "      <td>0</td>\n",
       "    </tr>\n",
       "  </tbody>\n",
       "</table>\n",
       "<p>5 rows × 6008 columns</p>\n",
       "</div>"
      ],
      "text/plain": [
       "        is_duplicate  q1_len  q2_len  q1_num_words  q2_num_words  \\\n",
       "213416             0      64      46            12             9   \n",
       "329054             0      42      50             7             9   \n",
       "97962              1      58      31            13             6   \n",
       "334963             1      37      42             7             8   \n",
       "367105             0      32      24             5             6   \n",
       "\n",
       "        common_words  total_words  shared_words  0  1  ...  2990  2991  2992  \\\n",
       "213416             7           20          0.35  0  0  ...     0     0     0   \n",
       "329054             3           16          0.19  0  0  ...     0     0     0   \n",
       "97962              4           19          0.21  0  0  ...     0     0     0   \n",
       "334963             4           15          0.27  0  0  ...     0     0     0   \n",
       "367105             0           11          0.00  0  0  ...     0     0     1   \n",
       "\n",
       "        2993  2994  2995  2996  2997  2998  2999  \n",
       "213416     0     0     0     0     0     0     0  \n",
       "329054     0     0     0     0     0     0     0  \n",
       "97962      0     0     0     0     0     0     0  \n",
       "334963     0     0     0     0     0     0     0  \n",
       "367105     0     0     0     0     0     0     0  \n",
       "\n",
       "[5 rows x 6008 columns]"
      ]
     },
     "execution_count": 52,
     "metadata": {},
     "output_type": "execute_result"
    }
   ],
   "source": [
    "final_df=new_df.drop(columns=['id','qid1','qid2','question1','question2'])\n",
    "final_df=pd.concat([final_df,temp_df],axis=1)\n",
    "print(final_df.shape)\n",
    "final_df.head()"
   ]
  },
  {
   "cell_type": "code",
   "execution_count": 53,
   "id": "1eaa9976",
   "metadata": {},
   "outputs": [],
   "source": [
    "from sklearn.model_selection import train_test_split\n",
    "\n",
    "X_train,X_test,y_train,y_test=train_test_split(final_df.iloc[:,1:].values,final_df.iloc[:,0].values,test_size=0.2,random_state=10)"
   ]
  },
  {
   "cell_type": "code",
   "execution_count": 54,
   "id": "c6613375",
   "metadata": {},
   "outputs": [
    {
     "data": {
      "text/plain": [
       "0.7698333333333334"
      ]
     },
     "execution_count": 54,
     "metadata": {},
     "output_type": "execute_result"
    }
   ],
   "source": [
    "from sklearn.ensemble import RandomForestClassifier\n",
    "from sklearn.metrics import accuracy_score\n",
    "\n",
    "rf=RandomForestClassifier()\n",
    "rf.fit(X_train,y_train)\n",
    "y_pred=rf.predict(X_test)\n",
    "accuracy_score(y_test,y_pred)"
   ]
  },
  {
   "cell_type": "code",
   "execution_count": 55,
   "id": "61d967f7",
   "metadata": {},
   "outputs": [
    {
     "data": {
      "text/plain": [
       "0.77"
      ]
     },
     "execution_count": 55,
     "metadata": {},
     "output_type": "execute_result"
    }
   ],
   "source": [
    "from xgboost import XGBClassifier\n",
    "\n",
    "xgb=XGBClassifier()\n",
    "xgb.fit(X_train,y_train)\n",
    "y_pred=xgb.predict(X_test)\n",
    "accuracy_score(y_test,y_pred)"
   ]
  },
  {
   "cell_type": "code",
   "execution_count": null,
   "id": "a8586465",
   "metadata": {},
   "outputs": [],
   "source": []
  }
 ],
 "metadata": {
  "kernelspec": {
   "display_name": "Python 3 (ipykernel)",
   "language": "python",
   "name": "python3"
  },
  "language_info": {
   "codemirror_mode": {
    "name": "ipython",
    "version": 3
   },
   "file_extension": ".py",
   "mimetype": "text/x-python",
   "name": "python",
   "nbconvert_exporter": "python",
   "pygments_lexer": "ipython3",
   "version": "3.10.8"
  }
 },
 "nbformat": 4,
 "nbformat_minor": 5
}
